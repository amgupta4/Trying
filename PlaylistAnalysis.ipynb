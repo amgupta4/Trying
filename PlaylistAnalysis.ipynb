{
 "cells": [
  {
   "cell_type": "code",
   "execution_count": 34,
   "metadata": {},
   "outputs": [],
   "source": [
    "import pickle\n",
    "import json\n",
    "import pandas as pd\n",
    "import matplotlib.pyplot as plt\n",
    "import numpy as np\n",
    "import seaborn as sns\n",
    "%matplotlib inline\n",
    "\n",
    "with open('allFeatures.pkl', 'rb') as f:\n",
    "    features = pickle.load(f)\n",
    "\n",
    "df = pd.DataFrame(features)"
   ]
  },
  {
   "cell_type": "code",
   "execution_count": 2,
   "metadata": {},
   "outputs": [
    {
     "data": {
      "text/html": [
       "<div>\n",
       "<style>\n",
       "    .dataframe thead tr:only-child th {\n",
       "        text-align: right;\n",
       "    }\n",
       "\n",
       "    .dataframe thead th {\n",
       "        text-align: left;\n",
       "    }\n",
       "\n",
       "    .dataframe tbody tr th {\n",
       "        vertical-align: top;\n",
       "    }\n",
       "</style>\n",
       "<table border=\"1\" class=\"dataframe\">\n",
       "  <thead>\n",
       "    <tr style=\"text-align: right;\">\n",
       "      <th></th>\n",
       "      <th>acousticness</th>\n",
       "      <th>analysis_url</th>\n",
       "      <th>danceability</th>\n",
       "      <th>duration_ms</th>\n",
       "      <th>energy</th>\n",
       "      <th>id</th>\n",
       "      <th>instrumentalness</th>\n",
       "      <th>key</th>\n",
       "      <th>liveness</th>\n",
       "      <th>loudness</th>\n",
       "      <th>mode</th>\n",
       "      <th>speechiness</th>\n",
       "      <th>tempo</th>\n",
       "      <th>time_signature</th>\n",
       "      <th>track_href</th>\n",
       "      <th>type</th>\n",
       "      <th>uri</th>\n",
       "      <th>valence</th>\n",
       "    </tr>\n",
       "  </thead>\n",
       "  <tbody>\n",
       "    <tr>\n",
       "      <th>0</th>\n",
       "      <td>0.394</td>\n",
       "      <td>https://api.spotify.com/v1/audio-analysis/7odH...</td>\n",
       "      <td>0.401</td>\n",
       "      <td>149160</td>\n",
       "      <td>0.498</td>\n",
       "      <td>7odHgoLFi3GQ90E9PeraI3</td>\n",
       "      <td>0.0</td>\n",
       "      <td>4</td>\n",
       "      <td>0.1300</td>\n",
       "      <td>-10.682</td>\n",
       "      <td>1</td>\n",
       "      <td>0.0757</td>\n",
       "      <td>181.701</td>\n",
       "      <td>4</td>\n",
       "      <td>https://api.spotify.com/v1/tracks/7odHgoLFi3GQ...</td>\n",
       "      <td>audio_features</td>\n",
       "      <td>spotify:track:7odHgoLFi3GQ90E9PeraI3</td>\n",
       "      <td>0.816</td>\n",
       "    </tr>\n",
       "    <tr>\n",
       "      <th>1</th>\n",
       "      <td>0.822</td>\n",
       "      <td>https://api.spotify.com/v1/audio-analysis/6EuE...</td>\n",
       "      <td>0.742</td>\n",
       "      <td>274187</td>\n",
       "      <td>0.407</td>\n",
       "      <td>6EuE9M1viu9gkdFSafia9o</td>\n",
       "      <td>0.0</td>\n",
       "      <td>2</td>\n",
       "      <td>0.0541</td>\n",
       "      <td>-6.938</td>\n",
       "      <td>1</td>\n",
       "      <td>0.4260</td>\n",
       "      <td>116.064</td>\n",
       "      <td>4</td>\n",
       "      <td>https://api.spotify.com/v1/tracks/6EuE9M1viu9g...</td>\n",
       "      <td>audio_features</td>\n",
       "      <td>spotify:track:6EuE9M1viu9gkdFSafia9o</td>\n",
       "      <td>0.390</td>\n",
       "    </tr>\n",
       "    <tr>\n",
       "      <th>2</th>\n",
       "      <td>0.145</td>\n",
       "      <td>https://api.spotify.com/v1/audio-analysis/2r4J...</td>\n",
       "      <td>0.676</td>\n",
       "      <td>188773</td>\n",
       "      <td>0.777</td>\n",
       "      <td>2r4JRwcbIeuAzWjH4YXlLs</td>\n",
       "      <td>0.0</td>\n",
       "      <td>1</td>\n",
       "      <td>0.2280</td>\n",
       "      <td>-3.241</td>\n",
       "      <td>0</td>\n",
       "      <td>0.3570</td>\n",
       "      <td>173.931</td>\n",
       "      <td>4</td>\n",
       "      <td>https://api.spotify.com/v1/tracks/2r4JRwcbIeuA...</td>\n",
       "      <td>audio_features</td>\n",
       "      <td>spotify:track:2r4JRwcbIeuAzWjH4YXlLs</td>\n",
       "      <td>0.226</td>\n",
       "    </tr>\n",
       "    <tr>\n",
       "      <th>3</th>\n",
       "      <td>0.125</td>\n",
       "      <td>https://api.spotify.com/v1/audio-analysis/3qno...</td>\n",
       "      <td>0.925</td>\n",
       "      <td>145507</td>\n",
       "      <td>0.308</td>\n",
       "      <td>3qnoOm4fwZPBS116f5hpgF</td>\n",
       "      <td>0.0</td>\n",
       "      <td>11</td>\n",
       "      <td>0.0933</td>\n",
       "      <td>-6.562</td>\n",
       "      <td>0</td>\n",
       "      <td>0.3380</td>\n",
       "      <td>122.099</td>\n",
       "      <td>4</td>\n",
       "      <td>https://api.spotify.com/v1/tracks/3qnoOm4fwZPB...</td>\n",
       "      <td>audio_features</td>\n",
       "      <td>spotify:track:3qnoOm4fwZPBS116f5hpgF</td>\n",
       "      <td>0.265</td>\n",
       "    </tr>\n",
       "    <tr>\n",
       "      <th>4</th>\n",
       "      <td>0.494</td>\n",
       "      <td>https://api.spotify.com/v1/audio-analysis/3dG6...</td>\n",
       "      <td>0.555</td>\n",
       "      <td>205547</td>\n",
       "      <td>0.433</td>\n",
       "      <td>3dG6tjetoR4GMmUGZUprLt</td>\n",
       "      <td>0.0</td>\n",
       "      <td>3</td>\n",
       "      <td>0.3130</td>\n",
       "      <td>-8.559</td>\n",
       "      <td>1</td>\n",
       "      <td>0.5460</td>\n",
       "      <td>164.236</td>\n",
       "      <td>4</td>\n",
       "      <td>https://api.spotify.com/v1/tracks/3dG6tjetoR4G...</td>\n",
       "      <td>audio_features</td>\n",
       "      <td>spotify:track:3dG6tjetoR4GMmUGZUprLt</td>\n",
       "      <td>0.352</td>\n",
       "    </tr>\n",
       "  </tbody>\n",
       "</table>\n",
       "</div>"
      ],
      "text/plain": [
       "   acousticness                                       analysis_url  \\\n",
       "0         0.394  https://api.spotify.com/v1/audio-analysis/7odH...   \n",
       "1         0.822  https://api.spotify.com/v1/audio-analysis/6EuE...   \n",
       "2         0.145  https://api.spotify.com/v1/audio-analysis/2r4J...   \n",
       "3         0.125  https://api.spotify.com/v1/audio-analysis/3qno...   \n",
       "4         0.494  https://api.spotify.com/v1/audio-analysis/3dG6...   \n",
       "\n",
       "   danceability  duration_ms  energy                      id  \\\n",
       "0         0.401       149160   0.498  7odHgoLFi3GQ90E9PeraI3   \n",
       "1         0.742       274187   0.407  6EuE9M1viu9gkdFSafia9o   \n",
       "2         0.676       188773   0.777  2r4JRwcbIeuAzWjH4YXlLs   \n",
       "3         0.925       145507   0.308  3qnoOm4fwZPBS116f5hpgF   \n",
       "4         0.555       205547   0.433  3dG6tjetoR4GMmUGZUprLt   \n",
       "\n",
       "   instrumentalness  key  liveness  loudness  mode  speechiness    tempo  \\\n",
       "0               0.0    4    0.1300   -10.682     1       0.0757  181.701   \n",
       "1               0.0    2    0.0541    -6.938     1       0.4260  116.064   \n",
       "2               0.0    1    0.2280    -3.241     0       0.3570  173.931   \n",
       "3               0.0   11    0.0933    -6.562     0       0.3380  122.099   \n",
       "4               0.0    3    0.3130    -8.559     1       0.5460  164.236   \n",
       "\n",
       "   time_signature                                         track_href  \\\n",
       "0               4  https://api.spotify.com/v1/tracks/7odHgoLFi3GQ...   \n",
       "1               4  https://api.spotify.com/v1/tracks/6EuE9M1viu9g...   \n",
       "2               4  https://api.spotify.com/v1/tracks/2r4JRwcbIeuA...   \n",
       "3               4  https://api.spotify.com/v1/tracks/3qnoOm4fwZPB...   \n",
       "4               4  https://api.spotify.com/v1/tracks/3dG6tjetoR4G...   \n",
       "\n",
       "             type                                   uri  valence  \n",
       "0  audio_features  spotify:track:7odHgoLFi3GQ90E9PeraI3    0.816  \n",
       "1  audio_features  spotify:track:6EuE9M1viu9gkdFSafia9o    0.390  \n",
       "2  audio_features  spotify:track:2r4JRwcbIeuAzWjH4YXlLs    0.226  \n",
       "3  audio_features  spotify:track:3qnoOm4fwZPBS116f5hpgF    0.265  \n",
       "4  audio_features  spotify:track:3dG6tjetoR4GMmUGZUprLt    0.352  "
      ]
     },
     "execution_count": 2,
     "metadata": {},
     "output_type": "execute_result"
    }
   ],
   "source": [
    "df.head()"
   ]
  },
  {
   "cell_type": "code",
   "execution_count": 3,
   "metadata": {},
   "outputs": [
    {
     "data": {
      "text/plain": [
       "<matplotlib.axes._subplots.AxesSubplot at 0x2d9511e8828>"
      ]
     },
     "execution_count": 3,
     "metadata": {},
     "output_type": "execute_result"
    },
    {
     "data": {
      "image/png": "[encoded data removed]",
      "text/plain": [
       "<Figure size 432x288 with 1 Axes>"
      ]
     },
     "metadata": {},
     "output_type": "display_data"
    }
   ],
   "source": [
    "df['acousticness'].hist()"
   ]
  },
  {
   "cell_type": "code",
   "execution_count": 4,
   "metadata": {
    "scrolled": true
   },
   "outputs": [
    {
     "data": {
      "text/html": [
       "<div>\n",
       "<style>\n",
       "    .dataframe thead tr:only-child th {\n",
       "        text-align: right;\n",
       "    }\n",
       "\n",
       "    .dataframe thead th {\n",
       "        text-align: left;\n",
       "    }\n",
       "\n",
       "    .dataframe tbody tr th {\n",
       "        vertical-align: top;\n",
       "    }\n",
       "</style>\n",
       "<table border=\"1\" class=\"dataframe\">\n",
       "  <thead>\n",
       "    <tr style=\"text-align: right;\">\n",
       "      <th></th>\n",
       "      <th>acousticness</th>\n",
       "      <th>analysis_url</th>\n",
       "      <th>danceability</th>\n",
       "      <th>duration_ms</th>\n",
       "      <th>energy</th>\n",
       "      <th>id</th>\n",
       "      <th>instrumentalness</th>\n",
       "      <th>key</th>\n",
       "      <th>liveness</th>\n",
       "      <th>loudness</th>\n",
       "      <th>mode</th>\n",
       "      <th>speechiness</th>\n",
       "      <th>tempo</th>\n",
       "      <th>time_signature</th>\n",
       "      <th>track_href</th>\n",
       "      <th>type</th>\n",
       "      <th>uri</th>\n",
       "      <th>valence</th>\n",
       "    </tr>\n",
       "  </thead>\n",
       "  <tbody>\n",
       "    <tr>\n",
       "      <th>1</th>\n",
       "      <td>0.822</td>\n",
       "      <td>https://api.spotify.com/v1/audio-analysis/6EuE...</td>\n",
       "      <td>0.742</td>\n",
       "      <td>274187</td>\n",
       "      <td>0.407</td>\n",
       "      <td>6EuE9M1viu9gkdFSafia9o</td>\n",
       "      <td>0.000000</td>\n",
       "      <td>2</td>\n",
       "      <td>0.0541</td>\n",
       "      <td>-6.938</td>\n",
       "      <td>1</td>\n",
       "      <td>0.4260</td>\n",
       "      <td>116.064</td>\n",
       "      <td>4</td>\n",
       "      <td>https://api.spotify.com/v1/tracks/6EuE9M1viu9g...</td>\n",
       "      <td>audio_features</td>\n",
       "      <td>spotify:track:6EuE9M1viu9gkdFSafia9o</td>\n",
       "      <td>0.390</td>\n",
       "    </tr>\n",
       "    <tr>\n",
       "      <th>37</th>\n",
       "      <td>0.931</td>\n",
       "      <td>https://api.spotify.com/v1/audio-analysis/3f4I...</td>\n",
       "      <td>0.768</td>\n",
       "      <td>175750</td>\n",
       "      <td>0.297</td>\n",
       "      <td>3f4IpVpRtA6wzlpyZ5kDSj</td>\n",
       "      <td>0.000093</td>\n",
       "      <td>0</td>\n",
       "      <td>0.2490</td>\n",
       "      <td>-10.384</td>\n",
       "      <td>1</td>\n",
       "      <td>0.0984</td>\n",
       "      <td>99.870</td>\n",
       "      <td>4</td>\n",
       "      <td>https://api.spotify.com/v1/tracks/3f4IpVpRtA6w...</td>\n",
       "      <td>audio_features</td>\n",
       "      <td>spotify:track:3f4IpVpRtA6wzlpyZ5kDSj</td>\n",
       "      <td>0.357</td>\n",
       "    </tr>\n",
       "    <tr>\n",
       "      <th>47</th>\n",
       "      <td>0.961</td>\n",
       "      <td>https://api.spotify.com/v1/audio-analysis/2Ep8...</td>\n",
       "      <td>0.351</td>\n",
       "      <td>71200</td>\n",
       "      <td>0.263</td>\n",
       "      <td>2Ep8jTgthQKwI0HDnWUTeS</td>\n",
       "      <td>0.000000</td>\n",
       "      <td>2</td>\n",
       "      <td>0.2230</td>\n",
       "      <td>-22.081</td>\n",
       "      <td>0</td>\n",
       "      <td>0.1030</td>\n",
       "      <td>159.493</td>\n",
       "      <td>0</td>\n",
       "      <td>https://api.spotify.com/v1/tracks/2Ep8jTgthQKw...</td>\n",
       "      <td>audio_features</td>\n",
       "      <td>spotify:track:2Ep8jTgthQKwI0HDnWUTeS</td>\n",
       "      <td>0.453</td>\n",
       "    </tr>\n",
       "    <tr>\n",
       "      <th>57</th>\n",
       "      <td>0.803</td>\n",
       "      <td>https://api.spotify.com/v1/audio-analysis/2Npu...</td>\n",
       "      <td>0.638</td>\n",
       "      <td>190333</td>\n",
       "      <td>0.285</td>\n",
       "      <td>2NpuRSBLMzPs0w9sVsJmT5</td>\n",
       "      <td>0.000566</td>\n",
       "      <td>2</td>\n",
       "      <td>0.1850</td>\n",
       "      <td>-15.258</td>\n",
       "      <td>1</td>\n",
       "      <td>0.0531</td>\n",
       "      <td>88.254</td>\n",
       "      <td>4</td>\n",
       "      <td>https://api.spotify.com/v1/tracks/2NpuRSBLMzPs...</td>\n",
       "      <td>audio_features</td>\n",
       "      <td>spotify:track:2NpuRSBLMzPs0w9sVsJmT5</td>\n",
       "      <td>0.217</td>\n",
       "    </tr>\n",
       "    <tr>\n",
       "      <th>63</th>\n",
       "      <td>0.897</td>\n",
       "      <td>https://api.spotify.com/v1/audio-analysis/0seG...</td>\n",
       "      <td>0.688</td>\n",
       "      <td>121973</td>\n",
       "      <td>0.314</td>\n",
       "      <td>0seGLQM7hqaJq6LbnqUgmR</td>\n",
       "      <td>0.000000</td>\n",
       "      <td>11</td>\n",
       "      <td>0.0973</td>\n",
       "      <td>-10.087</td>\n",
       "      <td>1</td>\n",
       "      <td>0.0302</td>\n",
       "      <td>129.740</td>\n",
       "      <td>4</td>\n",
       "      <td>https://api.spotify.com/v1/tracks/0seGLQM7hqaJ...</td>\n",
       "      <td>audio_features</td>\n",
       "      <td>spotify:track:0seGLQM7hqaJq6LbnqUgmR</td>\n",
       "      <td>0.524</td>\n",
       "    </tr>\n",
       "  </tbody>\n",
       "</table>\n",
       "</div>"
      ],
      "text/plain": [
       "    acousticness                                       analysis_url  \\\n",
       "1          0.822  https://api.spotify.com/v1/audio-analysis/6EuE...   \n",
       "37         0.931  https://api.spotify.com/v1/audio-analysis/3f4I...   \n",
       "47         0.961  https://api.spotify.com/v1/audio-analysis/2Ep8...   \n",
       "57         0.803  https://api.spotify.com/v1/audio-analysis/2Npu...   \n",
       "63         0.897  https://api.spotify.com/v1/audio-analysis/0seG...   \n",
       "\n",
       "    danceability  duration_ms  energy                      id  \\\n",
       "1          0.742       274187   0.407  6EuE9M1viu9gkdFSafia9o   \n",
       "37         0.768       175750   0.297  3f4IpVpRtA6wzlpyZ5kDSj   \n",
       "47         0.351        71200   0.263  2Ep8jTgthQKwI0HDnWUTeS   \n",
       "57         0.638       190333   0.285  2NpuRSBLMzPs0w9sVsJmT5   \n",
       "63         0.688       121973   0.314  0seGLQM7hqaJq6LbnqUgmR   \n",
       "\n",
       "    instrumentalness  key  liveness  loudness  mode  speechiness    tempo  \\\n",
       "1           0.000000    2    0.0541    -6.938     1       0.4260  116.064   \n",
       "37          0.000093    0    0.2490   -10.384     1       0.0984   99.870   \n",
       "47          0.000000    2    0.2230   -22.081     0       0.1030  159.493   \n",
       "57          0.000566    2    0.1850   -15.258     1       0.0531   88.254   \n",
       "63          0.000000   11    0.0973   -10.087     1       0.0302  129.740   \n",
       "\n",
       "    time_signature                                         track_href  \\\n",
       "1                4  https://api.spotify.com/v1/tracks/6EuE9M1viu9g...   \n",
       "37               4  https://api.spotify.com/v1/tracks/3f4IpVpRtA6w...   \n",
       "47               0  https://api.spotify.com/v1/tracks/2Ep8jTgthQKw...   \n",
       "57               4  https://api.spotify.com/v1/tracks/2NpuRSBLMzPs...   \n",
       "63               4  https://api.spotify.com/v1/tracks/0seGLQM7hqaJ...   \n",
       "\n",
       "              type                                   uri  valence  \n",
       "1   audio_features  spotify:track:6EuE9M1viu9gkdFSafia9o    0.390  \n",
       "37  audio_features  spotify:track:3f4IpVpRtA6wzlpyZ5kDSj    0.357  \n",
       "47  audio_features  spotify:track:2Ep8jTgthQKwI0HDnWUTeS    0.453  \n",
       "57  audio_features  spotify:track:2NpuRSBLMzPs0w9sVsJmT5    0.217  \n",
       "63  audio_features  spotify:track:0seGLQM7hqaJq6LbnqUgmR    0.524  "
      ]
     },
     "execution_count": 4,
     "metadata": {},
     "output_type": "execute_result"
    }
   ],
   "source": [
    "df[df['acousticness'] > .8].head()"
   ]
  },
  {
   "cell_type": "code",
   "execution_count": 5,
   "metadata": {
    "scrolled": true
   },
   "outputs": [
    {
     "data": {
      "text/plain": [
       "<matplotlib.axes._subplots.AxesSubplot at 0x2d9515ecc50>"
      ]
     },
     "execution_count": 5,
     "metadata": {},
     "output_type": "execute_result"
    },
    {
     "data": {
      "image/png": "[encoded data removed]",
      "text/plain": [
       "<Figure size 432x288 with 1 Axes>"
      ]
     },
     "metadata": {},
     "output_type": "display_data"
    }
   ],
   "source": [
    "df['instrumentalness'].hist()"
   ]
  },
  {
   "cell_type": "code",
   "execution_count": 6,
   "metadata": {},
   "outputs": [
    {
     "data": {
      "text/html": [
       "<div>\n",
       "<style>\n",
       "    .dataframe thead tr:only-child th {\n",
       "        text-align: right;\n",
       "    }\n",
       "\n",
       "    .dataframe thead th {\n",
       "        text-align: left;\n",
       "    }\n",
       "\n",
       "    .dataframe tbody tr th {\n",
       "        vertical-align: top;\n",
       "    }\n",
       "</style>\n",
       "<table border=\"1\" class=\"dataframe\">\n",
       "  <thead>\n",
       "    <tr style=\"text-align: right;\">\n",
       "      <th></th>\n",
       "      <th>acousticness</th>\n",
       "      <th>analysis_url</th>\n",
       "      <th>danceability</th>\n",
       "      <th>duration_ms</th>\n",
       "      <th>energy</th>\n",
       "      <th>id</th>\n",
       "      <th>instrumentalness</th>\n",
       "      <th>key</th>\n",
       "      <th>liveness</th>\n",
       "      <th>loudness</th>\n",
       "      <th>mode</th>\n",
       "      <th>speechiness</th>\n",
       "      <th>tempo</th>\n",
       "      <th>time_signature</th>\n",
       "      <th>track_href</th>\n",
       "      <th>type</th>\n",
       "      <th>uri</th>\n",
       "      <th>valence</th>\n",
       "    </tr>\n",
       "  </thead>\n",
       "  <tbody>\n",
       "    <tr>\n",
       "      <th>82</th>\n",
       "      <td>0.8910</td>\n",
       "      <td>https://api.spotify.com/v1/audio-analysis/4vU9...</td>\n",
       "      <td>0.755</td>\n",
       "      <td>177093</td>\n",
       "      <td>0.4820</td>\n",
       "      <td>4vU90MimdQpV2e1wPi1ljJ</td>\n",
       "      <td>0.818</td>\n",
       "      <td>0</td>\n",
       "      <td>0.1000</td>\n",
       "      <td>-12.729</td>\n",
       "      <td>1</td>\n",
       "      <td>0.0300</td>\n",
       "      <td>109.354</td>\n",
       "      <td>4</td>\n",
       "      <td>https://api.spotify.com/v1/tracks/4vU90MimdQpV...</td>\n",
       "      <td>audio_features</td>\n",
       "      <td>spotify:track:4vU90MimdQpV2e1wPi1ljJ</td>\n",
       "      <td>0.4810</td>\n",
       "    </tr>\n",
       "    <tr>\n",
       "      <th>85</th>\n",
       "      <td>0.5510</td>\n",
       "      <td>https://api.spotify.com/v1/audio-analysis/1O4p...</td>\n",
       "      <td>0.825</td>\n",
       "      <td>242267</td>\n",
       "      <td>0.3470</td>\n",
       "      <td>1O4pg2612aT6PGCAp6Wt1V</td>\n",
       "      <td>0.813</td>\n",
       "      <td>11</td>\n",
       "      <td>0.0893</td>\n",
       "      <td>-13.148</td>\n",
       "      <td>1</td>\n",
       "      <td>0.0504</td>\n",
       "      <td>122.744</td>\n",
       "      <td>4</td>\n",
       "      <td>https://api.spotify.com/v1/tracks/1O4pg2612aT6...</td>\n",
       "      <td>audio_features</td>\n",
       "      <td>spotify:track:1O4pg2612aT6PGCAp6Wt1V</td>\n",
       "      <td>0.5110</td>\n",
       "    </tr>\n",
       "    <tr>\n",
       "      <th>86</th>\n",
       "      <td>0.6780</td>\n",
       "      <td>https://api.spotify.com/v1/audio-analysis/0AdA...</td>\n",
       "      <td>0.151</td>\n",
       "      <td>158240</td>\n",
       "      <td>0.0749</td>\n",
       "      <td>0AdA0M0xJSlWwGjiSdoSSy</td>\n",
       "      <td>0.911</td>\n",
       "      <td>8</td>\n",
       "      <td>0.1100</td>\n",
       "      <td>-15.489</td>\n",
       "      <td>1</td>\n",
       "      <td>0.0406</td>\n",
       "      <td>63.222</td>\n",
       "      <td>5</td>\n",
       "      <td>https://api.spotify.com/v1/tracks/0AdA0M0xJSlW...</td>\n",
       "      <td>audio_features</td>\n",
       "      <td>spotify:track:0AdA0M0xJSlWwGjiSdoSSy</td>\n",
       "      <td>0.0345</td>\n",
       "    </tr>\n",
       "    <tr>\n",
       "      <th>89</th>\n",
       "      <td>0.8120</td>\n",
       "      <td>https://api.spotify.com/v1/audio-analysis/17eE...</td>\n",
       "      <td>0.626</td>\n",
       "      <td>313387</td>\n",
       "      <td>0.2670</td>\n",
       "      <td>17eEVo7K960G9wGKNS6rag</td>\n",
       "      <td>0.882</td>\n",
       "      <td>9</td>\n",
       "      <td>0.1110</td>\n",
       "      <td>-13.962</td>\n",
       "      <td>1</td>\n",
       "      <td>0.0301</td>\n",
       "      <td>109.191</td>\n",
       "      <td>4</td>\n",
       "      <td>https://api.spotify.com/v1/tracks/17eEVo7K960G...</td>\n",
       "      <td>audio_features</td>\n",
       "      <td>spotify:track:17eEVo7K960G9wGKNS6rag</td>\n",
       "      <td>0.1420</td>\n",
       "    </tr>\n",
       "    <tr>\n",
       "      <th>132</th>\n",
       "      <td>0.0335</td>\n",
       "      <td>https://api.spotify.com/v1/audio-analysis/1zyM...</td>\n",
       "      <td>0.218</td>\n",
       "      <td>178308</td>\n",
       "      <td>0.4640</td>\n",
       "      <td>1zyMwU1NtRDkuQWthUbGsL</td>\n",
       "      <td>0.962</td>\n",
       "      <td>7</td>\n",
       "      <td>0.1220</td>\n",
       "      <td>-9.013</td>\n",
       "      <td>0</td>\n",
       "      <td>0.0335</td>\n",
       "      <td>139.320</td>\n",
       "      <td>4</td>\n",
       "      <td>https://api.spotify.com/v1/tracks/1zyMwU1NtRDk...</td>\n",
       "      <td>audio_features</td>\n",
       "      <td>spotify:track:1zyMwU1NtRDkuQWthUbGsL</td>\n",
       "      <td>0.0414</td>\n",
       "    </tr>\n",
       "  </tbody>\n",
       "</table>\n",
       "</div>"
      ],
      "text/plain": [
       "     acousticness                                       analysis_url  \\\n",
       "82         0.8910  https://api.spotify.com/v1/audio-analysis/4vU9...   \n",
       "85         0.5510  https://api.spotify.com/v1/audio-analysis/1O4p...   \n",
       "86         0.6780  https://api.spotify.com/v1/audio-analysis/0AdA...   \n",
       "89         0.8120  https://api.spotify.com/v1/audio-analysis/17eE...   \n",
       "132        0.0335  https://api.spotify.com/v1/audio-analysis/1zyM...   \n",
       "\n",
       "     danceability  duration_ms  energy                      id  \\\n",
       "82          0.755       177093  0.4820  4vU90MimdQpV2e1wPi1ljJ   \n",
       "85          0.825       242267  0.3470  1O4pg2612aT6PGCAp6Wt1V   \n",
       "86          0.151       158240  0.0749  0AdA0M0xJSlWwGjiSdoSSy   \n",
       "89          0.626       313387  0.2670  17eEVo7K960G9wGKNS6rag   \n",
       "132         0.218       178308  0.4640  1zyMwU1NtRDkuQWthUbGsL   \n",
       "\n",
       "     instrumentalness  key  liveness  loudness  mode  speechiness    tempo  \\\n",
       "82              0.818    0    0.1000   -12.729     1       0.0300  109.354   \n",
       "85              0.813   11    0.0893   -13.148     1       0.0504  122.744   \n",
       "86              0.911    8    0.1100   -15.489     1       0.0406   63.222   \n",
       "89              0.882    9    0.1110   -13.962     1       0.0301  109.191   \n",
       "132             0.962    7    0.1220    -9.013     0       0.0335  139.320   \n",
       "\n",
       "     time_signature                                         track_href  \\\n",
       "82                4  https://api.spotify.com/v1/tracks/4vU90MimdQpV...   \n",
       "85                4  https://api.spotify.com/v1/tracks/1O4pg2612aT6...   \n",
       "86                5  https://api.spotify.com/v1/tracks/0AdA0M0xJSlW...   \n",
       "89                4  https://api.spotify.com/v1/tracks/17eEVo7K960G...   \n",
       "132               4  https://api.spotify.com/v1/tracks/1zyMwU1NtRDk...   \n",
       "\n",
       "               type                                   uri  valence  \n",
       "82   audio_features  spotify:track:4vU90MimdQpV2e1wPi1ljJ   0.4810  \n",
       "85   audio_features  spotify:track:1O4pg2612aT6PGCAp6Wt1V   0.5110  \n",
       "86   audio_features  spotify:track:0AdA0M0xJSlWwGjiSdoSSy   0.0345  \n",
       "89   audio_features  spotify:track:17eEVo7K960G9wGKNS6rag   0.1420  \n",
       "132  audio_features  spotify:track:1zyMwU1NtRDkuQWthUbGsL   0.0414  "
      ]
     },
     "execution_count": 6,
     "metadata": {},
     "output_type": "execute_result"
    }
   ],
   "source": [
    "df[df['instrumentalness'] > .8].head()"
   ]
  },
  {
   "cell_type": "code",
   "execution_count": 7,
   "metadata": {},
   "outputs": [
    {
     "data": {
      "text/plain": [
       "<matplotlib.axes._subplots.AxesSubplot at 0x2d9516d3be0>"
      ]
     },
     "execution_count": 7,
     "metadata": {},
     "output_type": "execute_result"
    },
    {
     "data": {
      "image/png": "[encoded data removed]",
      "text/plain": [
       "<Figure size 432x288 with 1 Axes>"
      ]
     },
     "metadata": {},
     "output_type": "display_data"
    }
   ],
   "source": [
    "df['danceability'].hist()"
   ]
  },
  {
   "cell_type": "code",
   "execution_count": 8,
   "metadata": {},
   "outputs": [
    {
     "data": {
      "text/plain": [
       "<matplotlib.axes._subplots.AxesSubplot at 0x2d951647cf8>"
      ]
     },
     "execution_count": 8,
     "metadata": {},
     "output_type": "execute_result"
    },
    {
     "data": {
      "image/png": "[encoded data removed]",
      "text/plain": [
       "<Figure size 432x288 with 1 Axes>"
      ]
     },
     "metadata": {},
     "output_type": "display_data"
    }
   ],
   "source": [
    "df['energy'].hist()"
   ]
  },
  {
   "cell_type": "code",
   "execution_count": 9,
   "metadata": {},
   "outputs": [
    {
     "data": {
      "text/plain": [
       "<matplotlib.axes._subplots.AxesSubplot at 0x2d951783b38>"
      ]
     },
     "execution_count": 9,
     "metadata": {},
     "output_type": "execute_result"
    },
    {
     "data": {
      "image/png": "[encoded data removed]",
      "text/plain": [
       "<Figure size 432x288 with 1 Axes>"
      ]
     },
     "metadata": {},
     "output_type": "display_data"
    }
   ],
   "source": [
    "df['speechiness'].hist()"
   ]
  },
  {
   "cell_type": "code",
   "execution_count": 10,
   "metadata": {},
   "outputs": [
    {
     "data": {
      "text/plain": [
       "<matplotlib.axes._subplots.AxesSubplot at 0x2d9517f9e10>"
      ]
     },
     "execution_count": 10,
     "metadata": {},
     "output_type": "execute_result"
    },
    {
     "data": {
      "image/png": "[encoded data removed]",
      "text/plain": [
       "<Figure size 432x288 with 1 Axes>"
      ]
     },
     "metadata": {},
     "output_type": "display_data"
    }
   ],
   "source": [
    "df['valence'].hist()"
   ]
  },
  {
   "cell_type": "code",
   "execution_count": 11,
   "metadata": {},
   "outputs": [
    {
     "data": {
      "text/plain": [
       "<matplotlib.axes._subplots.AxesSubplot at 0x2d95189fd68>"
      ]
     },
     "execution_count": 11,
     "metadata": {},
     "output_type": "execute_result"
    },
    {
     "data": {
      "image/png": "[encoded data removed]",
      "text/plain": [
       "<Figure size 432x288 with 1 Axes>"
      ]
     },
     "metadata": {},
     "output_type": "display_data"
    }
   ],
   "source": [
    "df['tempo'].hist()"
   ]
  },
  {
   "cell_type": "code",
   "execution_count": 12,
   "metadata": {},
   "outputs": [],
   "source": [
    "from sklearn.cluster import KMeans"
   ]
  },
  {
   "cell_type": "code",
   "execution_count": 13,
   "metadata": {},
   "outputs": [
    {
     "data": {
      "text/html": [
       "<div>\n",
       "<style>\n",
       "    .dataframe thead tr:only-child th {\n",
       "        text-align: right;\n",
       "    }\n",
       "\n",
       "    .dataframe thead th {\n",
       "        text-align: left;\n",
       "    }\n",
       "\n",
       "    .dataframe tbody tr th {\n",
       "        vertical-align: top;\n",
       "    }\n",
       "</style>\n",
       "<table border=\"1\" class=\"dataframe\">\n",
       "  <thead>\n",
       "    <tr style=\"text-align: right;\">\n",
       "      <th></th>\n",
       "      <th>acousticness</th>\n",
       "      <th>analysis_url</th>\n",
       "      <th>danceability</th>\n",
       "      <th>duration_ms</th>\n",
       "      <th>energy</th>\n",
       "      <th>id</th>\n",
       "      <th>instrumentalness</th>\n",
       "      <th>key</th>\n",
       "      <th>liveness</th>\n",
       "      <th>loudness</th>\n",
       "      <th>mode</th>\n",
       "      <th>speechiness</th>\n",
       "      <th>tempo</th>\n",
       "      <th>time_signature</th>\n",
       "      <th>track_href</th>\n",
       "      <th>type</th>\n",
       "      <th>uri</th>\n",
       "      <th>valence</th>\n",
       "    </tr>\n",
       "  </thead>\n",
       "  <tbody>\n",
       "    <tr>\n",
       "      <th>0</th>\n",
       "      <td>0.394</td>\n",
       "      <td>https://api.spotify.com/v1/audio-analysis/7odH...</td>\n",
       "      <td>0.401</td>\n",
       "      <td>149160</td>\n",
       "      <td>0.498</td>\n",
       "      <td>7odHgoLFi3GQ90E9PeraI3</td>\n",
       "      <td>0.0</td>\n",
       "      <td>4</td>\n",
       "      <td>0.1300</td>\n",
       "      <td>-10.682</td>\n",
       "      <td>1</td>\n",
       "      <td>0.0757</td>\n",
       "      <td>181.701</td>\n",
       "      <td>4</td>\n",
       "      <td>https://api.spotify.com/v1/tracks/7odHgoLFi3GQ...</td>\n",
       "      <td>audio_features</td>\n",
       "      <td>spotify:track:7odHgoLFi3GQ90E9PeraI3</td>\n",
       "      <td>0.816</td>\n",
       "    </tr>\n",
       "    <tr>\n",
       "      <th>1</th>\n",
       "      <td>0.822</td>\n",
       "      <td>https://api.spotify.com/v1/audio-analysis/6EuE...</td>\n",
       "      <td>0.742</td>\n",
       "      <td>274187</td>\n",
       "      <td>0.407</td>\n",
       "      <td>6EuE9M1viu9gkdFSafia9o</td>\n",
       "      <td>0.0</td>\n",
       "      <td>2</td>\n",
       "      <td>0.0541</td>\n",
       "      <td>-6.938</td>\n",
       "      <td>1</td>\n",
       "      <td>0.4260</td>\n",
       "      <td>116.064</td>\n",
       "      <td>4</td>\n",
       "      <td>https://api.spotify.com/v1/tracks/6EuE9M1viu9g...</td>\n",
       "      <td>audio_features</td>\n",
       "      <td>spotify:track:6EuE9M1viu9gkdFSafia9o</td>\n",
       "      <td>0.390</td>\n",
       "    </tr>\n",
       "    <tr>\n",
       "      <th>2</th>\n",
       "      <td>0.145</td>\n",
       "      <td>https://api.spotify.com/v1/audio-analysis/2r4J...</td>\n",
       "      <td>0.676</td>\n",
       "      <td>188773</td>\n",
       "      <td>0.777</td>\n",
       "      <td>2r4JRwcbIeuAzWjH4YXlLs</td>\n",
       "      <td>0.0</td>\n",
       "      <td>1</td>\n",
       "      <td>0.2280</td>\n",
       "      <td>-3.241</td>\n",
       "      <td>0</td>\n",
       "      <td>0.3570</td>\n",
       "      <td>173.931</td>\n",
       "      <td>4</td>\n",
       "      <td>https://api.spotify.com/v1/tracks/2r4JRwcbIeuA...</td>\n",
       "      <td>audio_features</td>\n",
       "      <td>spotify:track:2r4JRwcbIeuAzWjH4YXlLs</td>\n",
       "      <td>0.226</td>\n",
       "    </tr>\n",
       "    <tr>\n",
       "      <th>3</th>\n",
       "      <td>0.125</td>\n",
       "      <td>https://api.spotify.com/v1/audio-analysis/3qno...</td>\n",
       "      <td>0.925</td>\n",
       "      <td>145507</td>\n",
       "      <td>0.308</td>\n",
       "      <td>3qnoOm4fwZPBS116f5hpgF</td>\n",
       "      <td>0.0</td>\n",
       "      <td>11</td>\n",
       "      <td>0.0933</td>\n",
       "      <td>-6.562</td>\n",
       "      <td>0</td>\n",
       "      <td>0.3380</td>\n",
       "      <td>122.099</td>\n",
       "      <td>4</td>\n",
       "      <td>https://api.spotify.com/v1/tracks/3qnoOm4fwZPB...</td>\n",
       "      <td>audio_features</td>\n",
       "      <td>spotify:track:3qnoOm4fwZPBS116f5hpgF</td>\n",
       "      <td>0.265</td>\n",
       "    </tr>\n",
       "    <tr>\n",
       "      <th>4</th>\n",
       "      <td>0.494</td>\n",
       "      <td>https://api.spotify.com/v1/audio-analysis/3dG6...</td>\n",
       "      <td>0.555</td>\n",
       "      <td>205547</td>\n",
       "      <td>0.433</td>\n",
       "      <td>3dG6tjetoR4GMmUGZUprLt</td>\n",
       "      <td>0.0</td>\n",
       "      <td>3</td>\n",
       "      <td>0.3130</td>\n",
       "      <td>-8.559</td>\n",
       "      <td>1</td>\n",
       "      <td>0.5460</td>\n",
       "      <td>164.236</td>\n",
       "      <td>4</td>\n",
       "      <td>https://api.spotify.com/v1/tracks/3dG6tjetoR4G...</td>\n",
       "      <td>audio_features</td>\n",
       "      <td>spotify:track:3dG6tjetoR4GMmUGZUprLt</td>\n",
       "      <td>0.352</td>\n",
       "    </tr>\n",
       "  </tbody>\n",
       "</table>\n",
       "</div>"
      ],
      "text/plain": [
       "   acousticness                                       analysis_url  \\\n",
       "0         0.394  https://api.spotify.com/v1/audio-analysis/7odH...   \n",
       "1         0.822  https://api.spotify.com/v1/audio-analysis/6EuE...   \n",
       "2         0.145  https://api.spotify.com/v1/audio-analysis/2r4J...   \n",
       "3         0.125  https://api.spotify.com/v1/audio-analysis/3qno...   \n",
       "4         0.494  https://api.spotify.com/v1/audio-analysis/3dG6...   \n",
       "\n",
       "   danceability  duration_ms  energy                      id  \\\n",
       "0         0.401       149160   0.498  7odHgoLFi3GQ90E9PeraI3   \n",
       "1         0.742       274187   0.407  6EuE9M1viu9gkdFSafia9o   \n",
       "2         0.676       188773   0.777  2r4JRwcbIeuAzWjH4YXlLs   \n",
       "3         0.925       145507   0.308  3qnoOm4fwZPBS116f5hpgF   \n",
       "4         0.555       205547   0.433  3dG6tjetoR4GMmUGZUprLt   \n",
       "\n",
       "   instrumentalness  key  liveness  loudness  mode  speechiness    tempo  \\\n",
       "0               0.0    4    0.1300   -10.682     1       0.0757  181.701   \n",
       "1               0.0    2    0.0541    -6.938     1       0.4260  116.064   \n",
       "2               0.0    1    0.2280    -3.241     0       0.3570  173.931   \n",
       "3               0.0   11    0.0933    -6.562     0       0.3380  122.099   \n",
       "4               0.0    3    0.3130    -8.559     1       0.5460  164.236   \n",
       "\n",
       "   time_signature                                         track_href  \\\n",
       "0               4  https://api.spotify.com/v1/tracks/7odHgoLFi3GQ...   \n",
       "1               4  https://api.spotify.com/v1/tracks/6EuE9M1viu9g...   \n",
       "2               4  https://api.spotify.com/v1/tracks/2r4JRwcbIeuA...   \n",
       "3               4  https://api.spotify.com/v1/tracks/3qnoOm4fwZPB...   \n",
       "4               4  https://api.spotify.com/v1/tracks/3dG6tjetoR4G...   \n",
       "\n",
       "             type                                   uri  valence  \n",
       "0  audio_features  spotify:track:7odHgoLFi3GQ90E9PeraI3    0.816  \n",
       "1  audio_features  spotify:track:6EuE9M1viu9gkdFSafia9o    0.390  \n",
       "2  audio_features  spotify:track:2r4JRwcbIeuAzWjH4YXlLs    0.226  \n",
       "3  audio_features  spotify:track:3qnoOm4fwZPBS116f5hpgF    0.265  \n",
       "4  audio_features  spotify:track:3dG6tjetoR4GMmUGZUprLt    0.352  "
      ]
     },
     "execution_count": 13,
     "metadata": {},
     "output_type": "execute_result"
    }
   ],
   "source": [
    "df.head()"
   ]
  },
  {
   "cell_type": "code",
   "execution_count": 14,
   "metadata": {
    "scrolled": true
   },
   "outputs": [],
   "source": [
    "df_attrib = df.loc[:, ['acousticness', 'danceability', 'energy', 'instrumentalness', 'liveness', 'speechiness', 'valence']]"
   ]
  },
  {
   "cell_type": "code",
   "execution_count": 51,
   "metadata": {},
   "outputs": [],
   "source": [
    "kmeans = KMeans(n_clusters=13, random_state=0).fit(df_attrib)"
   ]
  },
  {
   "cell_type": "code",
   "execution_count": 53,
   "metadata": {
    "scrolled": true
   },
   "outputs": [
    {
     "data": {
      "text/plain": [
       "0      52\n",
       "1      48\n",
       "2      50\n",
       "3     122\n",
       "4      18\n",
       "5      27\n",
       "6      20\n",
       "7       7\n",
       "8      40\n",
       "9      94\n",
       "10     78\n",
       "11     21\n",
       "12     32\n",
       "Name: cluster, dtype: int64"
      ]
     },
     "execution_count": 53,
     "metadata": {},
     "output_type": "execute_result"
    }
   ],
   "source": [
    "df.cluster.value_counts().sort_index()"
   ]
  },
  {
   "cell_type": "code",
   "execution_count": 54,
   "metadata": {},
   "outputs": [],
   "source": [
    "df['cluster'] = kmeans.labels_"
   ]
  },
  {
   "cell_type": "code",
   "execution_count": 21,
   "metadata": {
    "scrolled": true
   },
   "outputs": [
    {
     "data": {
      "text/plain": [
       "0     45\n",
       "1    140\n",
       "2    103\n",
       "3    119\n",
       "4     38\n",
       "5     35\n",
       "6     62\n",
       "7     67\n",
       "Name: cluster, dtype: int64"
      ]
     },
     "execution_count": 21,
     "metadata": {},
     "output_type": "execute_result"
    }
   ],
   "source": [
    "df.cluster.value_counts().sort_index()"
   ]
  },
  {
   "cell_type": "code",
   "execution_count": 23,
   "metadata": {},
   "outputs": [
    {
     "data": {
      "text/html": [
       "<div>\n",
       "<style>\n",
       "    .dataframe thead tr:only-child th {\n",
       "        text-align: right;\n",
       "    }\n",
       "\n",
       "    .dataframe thead th {\n",
       "        text-align: left;\n",
       "    }\n",
       "\n",
       "    .dataframe tbody tr th {\n",
       "        vertical-align: top;\n",
       "    }\n",
       "</style>\n",
       "<table border=\"1\" class=\"dataframe\">\n",
       "  <thead>\n",
       "    <tr style=\"text-align: right;\">\n",
       "      <th></th>\n",
       "      <th>acousticness</th>\n",
       "      <th>danceability</th>\n",
       "      <th>energy</th>\n",
       "      <th>instrumentalness</th>\n",
       "      <th>liveness</th>\n",
       "      <th>speechiness</th>\n",
       "      <th>valence</th>\n",
       "    </tr>\n",
       "  </thead>\n",
       "  <tbody>\n",
       "    <tr>\n",
       "      <th>0</th>\n",
       "      <td>0.394</td>\n",
       "      <td>0.401</td>\n",
       "      <td>0.498</td>\n",
       "      <td>0.0</td>\n",
       "      <td>0.1300</td>\n",
       "      <td>0.0757</td>\n",
       "      <td>0.816</td>\n",
       "    </tr>\n",
       "    <tr>\n",
       "      <th>1</th>\n",
       "      <td>0.822</td>\n",
       "      <td>0.742</td>\n",
       "      <td>0.407</td>\n",
       "      <td>0.0</td>\n",
       "      <td>0.0541</td>\n",
       "      <td>0.4260</td>\n",
       "      <td>0.390</td>\n",
       "    </tr>\n",
       "    <tr>\n",
       "      <th>2</th>\n",
       "      <td>0.145</td>\n",
       "      <td>0.676</td>\n",
       "      <td>0.777</td>\n",
       "      <td>0.0</td>\n",
       "      <td>0.2280</td>\n",
       "      <td>0.3570</td>\n",
       "      <td>0.226</td>\n",
       "    </tr>\n",
       "    <tr>\n",
       "      <th>3</th>\n",
       "      <td>0.125</td>\n",
       "      <td>0.925</td>\n",
       "      <td>0.308</td>\n",
       "      <td>0.0</td>\n",
       "      <td>0.0933</td>\n",
       "      <td>0.3380</td>\n",
       "      <td>0.265</td>\n",
       "    </tr>\n",
       "    <tr>\n",
       "      <th>4</th>\n",
       "      <td>0.494</td>\n",
       "      <td>0.555</td>\n",
       "      <td>0.433</td>\n",
       "      <td>0.0</td>\n",
       "      <td>0.3130</td>\n",
       "      <td>0.5460</td>\n",
       "      <td>0.352</td>\n",
       "    </tr>\n",
       "  </tbody>\n",
       "</table>\n",
       "</div>"
      ],
      "text/plain": [
       "   acousticness  danceability  energy  instrumentalness  liveness  \\\n",
       "0         0.394         0.401   0.498               0.0    0.1300   \n",
       "1         0.822         0.742   0.407               0.0    0.0541   \n",
       "2         0.145         0.676   0.777               0.0    0.2280   \n",
       "3         0.125         0.925   0.308               0.0    0.0933   \n",
       "4         0.494         0.555   0.433               0.0    0.3130   \n",
       "\n",
       "   speechiness  valence  \n",
       "0       0.0757    0.816  \n",
       "1       0.4260    0.390  \n",
       "2       0.3570    0.226  \n",
       "3       0.3380    0.265  \n",
       "4       0.5460    0.352  "
      ]
     },
     "execution_count": 23,
     "metadata": {},
     "output_type": "execute_result"
    }
   ],
   "source": [
    "df_attrib.head()"
   ]
  },
  {
   "cell_type": "code",
   "execution_count": 24,
   "metadata": {},
   "outputs": [],
   "source": [
    "def optimalK(data, nrefs=3, maxClusters=15):\n",
    "    \"\"\"\n",
    "    Calculates KMeans optimal K using Gap Statistic from Tibshirani, Walther, Hastie\n",
    "    Params:\n",
    "        data: ndarry of shape (n_samples, n_features)\n",
    "        nrefs: number of sample reference datasets to create\n",
    "        maxClusters: Maximum number of clusters to test for\n",
    "    Returns: (gaps, optimalK)\n",
    "    \"\"\"\n",
    "    gaps = np.zeros((len(range(1, maxClusters)),))\n",
    "    resultsdf = pd.DataFrame({'clusterCount':[], 'gap':[]})\n",
    "    for gap_index, k in enumerate(range(1, maxClusters)):\n",
    "\n",
    "        # Holder for reference dispersion results\n",
    "        refDisps = np.zeros(nrefs)\n",
    "\n",
    "        # For n references, generate random sample and perform kmeans getting resulting dispersion of each loop\n",
    "        for i in range(nrefs):\n",
    "            \n",
    "            # Create new random reference set\n",
    "            randomReference = np.random.random_sample(size=data.shape)\n",
    "            \n",
    "            # Fit to it\n",
    "            km = KMeans(k)\n",
    "            km.fit(randomReference)\n",
    "            \n",
    "            refDisp = km.inertia_\n",
    "            refDisps[i] = refDisp\n",
    "\n",
    "        # Fit cluster to original data and create dispersion\n",
    "        km = KMeans(k)\n",
    "        km.fit(data)\n",
    "        \n",
    "        origDisp = km.inertia_\n",
    "\n",
    "        # Calculate gap statistic\n",
    "        gap = np.log(np.mean(refDisps)) - np.log(origDisp)\n",
    "\n",
    "        # Assign this loop's gap statistic to gaps\n",
    "        gaps[gap_index] = gap\n",
    "        \n",
    "        resultsdf = resultsdf.append({'clusterCount':k, 'gap':gap}, ignore_index=True)\n",
    "\n",
    "    return (gaps.argmax() + 1, resultsdf)  # Plus 1 because index of 0 means 1 cluster is optimal, index 2 = 3 clusters are optimal"
   ]
  },
  {
   "cell_type": "code",
   "execution_count": 25,
   "metadata": {},
   "outputs": [
    {
     "data": {
      "text/plain": [
       "numpy.ndarray"
      ]
     },
     "execution_count": 25,
     "metadata": {},
     "output_type": "execute_result"
    }
   ],
   "source": [
    "type(df_attrib.values)"
   ]
  },
  {
   "cell_type": "code",
   "execution_count": 28,
   "metadata": {},
   "outputs": [],
   "source": [
    "k, gapdf = optimalK(df_attrib.values, nrefs=5, maxClusters=15)"
   ]
  },
  {
   "cell_type": "code",
   "execution_count": 29,
   "metadata": {},
   "outputs": [
    {
     "data": {
      "text/plain": [
       "13"
      ]
     },
     "execution_count": 29,
     "metadata": {},
     "output_type": "execute_result"
    }
   ],
   "source": [
    "k"
   ]
  },
  {
   "cell_type": "code",
   "execution_count": 42,
   "metadata": {},
   "outputs": [],
   "source": [
    "labels = list(df_attrib.columns)"
   ]
  },
  {
   "cell_type": "code",
   "execution_count": 76,
   "metadata": {},
   "outputs": [
    {
     "data": {
      "text/plain": [
       "array([ 0.822 ,  0.742 ,  0.407 ,  0.    ,  0.0541,  0.426 ,  0.39  ])"
      ]
     },
     "execution_count": 76,
     "metadata": {},
     "output_type": "execute_result"
    }
   ],
   "source": [
    "df_attrib.iloc[1,:].values"
   ]
  },
  {
   "cell_type": "code",
   "execution_count": 45,
   "metadata": {},
   "outputs": [],
   "source": [
    "nd_attrib = df_attrib.iloc[1,:].values"
   ]
  },
  {
   "cell_type": "code",
   "execution_count": 46,
   "metadata": {},
   "outputs": [],
   "source": [
    "angles=np.linspace(0, 2*np.pi, len(labels), endpoint=False)\n",
    "# close the plot\n",
    "nd_attrib=np.concatenate((nd_attrib,[nd_attrib[0]]))\n",
    "angles=np.concatenate((angles,[angles[0]]))\n"
   ]
  },
  {
   "cell_type": "code",
   "execution_count": 75,
   "metadata": {},
   "outputs": [
    {
     "data": {
      "text/plain": [
       "array([ 0.822 ,  0.742 ,  0.407 ,  0.    ,  0.0541,  0.426 ,  0.39  ,\n",
       "        0.822 ])"
      ]
     },
     "execution_count": 75,
     "metadata": {},
     "output_type": "execute_result"
    }
   ],
   "source": [
    "nd_attrib"
   ]
  },
  {
   "cell_type": "code",
   "execution_count": 74,
   "metadata": {
    "scrolled": true
   },
   "outputs": [
    {
     "data": {
      "image/png": "[encoded data removed]",
      "text/plain": [
       "<Figure size 432x288 with 1 Axes>"
      ]
     },
     "metadata": {},
     "output_type": "display_data"
    }
   ],
   "source": [
    "fig=sns.plt.figure()\n",
    "ax = fig.add_subplot(111, polar=True)\n",
    "ax.plot(angles, nd_attrib, 'o-', linewidth=2)\n",
    "ax.fill(angles, nd_attrib, alpha=0.25)\n",
    "ax.set_thetagrids(angles * 180/np.pi, labels)\n",
    "ax.grid(True)"
   ]
  },
  {
   "cell_type": "code",
   "execution_count": 48,
   "metadata": {},
   "outputs": [
    {
     "data": {
      "text/html": [
       "<div>\n",
       "<style>\n",
       "    .dataframe thead tr:only-child th {\n",
       "        text-align: right;\n",
       "    }\n",
       "\n",
       "    .dataframe thead th {\n",
       "        text-align: left;\n",
       "    }\n",
       "\n",
       "    .dataframe tbody tr th {\n",
       "        vertical-align: top;\n",
       "    }\n",
       "</style>\n",
       "<table border=\"1\" class=\"dataframe\">\n",
       "  <thead>\n",
       "    <tr style=\"text-align: right;\">\n",
       "      <th></th>\n",
       "      <th>acousticness</th>\n",
       "      <th>danceability</th>\n",
       "      <th>energy</th>\n",
       "      <th>instrumentalness</th>\n",
       "      <th>liveness</th>\n",
       "      <th>speechiness</th>\n",
       "      <th>valence</th>\n",
       "    </tr>\n",
       "  </thead>\n",
       "  <tbody>\n",
       "    <tr>\n",
       "      <th>0</th>\n",
       "      <td>0.394</td>\n",
       "      <td>0.401</td>\n",
       "      <td>0.498</td>\n",
       "      <td>0.0</td>\n",
       "      <td>0.1300</td>\n",
       "      <td>0.0757</td>\n",
       "      <td>0.816</td>\n",
       "    </tr>\n",
       "    <tr>\n",
       "      <th>1</th>\n",
       "      <td>0.822</td>\n",
       "      <td>0.742</td>\n",
       "      <td>0.407</td>\n",
       "      <td>0.0</td>\n",
       "      <td>0.0541</td>\n",
       "      <td>0.4260</td>\n",
       "      <td>0.390</td>\n",
       "    </tr>\n",
       "    <tr>\n",
       "      <th>2</th>\n",
       "      <td>0.145</td>\n",
       "      <td>0.676</td>\n",
       "      <td>0.777</td>\n",
       "      <td>0.0</td>\n",
       "      <td>0.2280</td>\n",
       "      <td>0.3570</td>\n",
       "      <td>0.226</td>\n",
       "    </tr>\n",
       "    <tr>\n",
       "      <th>3</th>\n",
       "      <td>0.125</td>\n",
       "      <td>0.925</td>\n",
       "      <td>0.308</td>\n",
       "      <td>0.0</td>\n",
       "      <td>0.0933</td>\n",
       "      <td>0.3380</td>\n",
       "      <td>0.265</td>\n",
       "    </tr>\n",
       "    <tr>\n",
       "      <th>4</th>\n",
       "      <td>0.494</td>\n",
       "      <td>0.555</td>\n",
       "      <td>0.433</td>\n",
       "      <td>0.0</td>\n",
       "      <td>0.3130</td>\n",
       "      <td>0.5460</td>\n",
       "      <td>0.352</td>\n",
       "    </tr>\n",
       "  </tbody>\n",
       "</table>\n",
       "</div>"
      ],
      "text/plain": [
       "   acousticness  danceability  energy  instrumentalness  liveness  \\\n",
       "0         0.394         0.401   0.498               0.0    0.1300   \n",
       "1         0.822         0.742   0.407               0.0    0.0541   \n",
       "2         0.145         0.676   0.777               0.0    0.2280   \n",
       "3         0.125         0.925   0.308               0.0    0.0933   \n",
       "4         0.494         0.555   0.433               0.0    0.3130   \n",
       "\n",
       "   speechiness  valence  \n",
       "0       0.0757    0.816  \n",
       "1       0.4260    0.390  \n",
       "2       0.3570    0.226  \n",
       "3       0.3380    0.265  \n",
       "4       0.5460    0.352  "
      ]
     },
     "execution_count": 48,
     "metadata": {},
     "output_type": "execute_result"
    }
   ],
   "source": [
    "df_attrib.head()"
   ]
  },
  {
   "cell_type": "code",
   "execution_count": 55,
   "metadata": {
    "scrolled": true
   },
   "outputs": [
    {
     "data": {
      "text/html": [
       "<div>\n",
       "<style>\n",
       "    .dataframe thead tr:only-child th {\n",
       "        text-align: right;\n",
       "    }\n",
       "\n",
       "    .dataframe thead th {\n",
       "        text-align: left;\n",
       "    }\n",
       "\n",
       "    .dataframe tbody tr th {\n",
       "        vertical-align: top;\n",
       "    }\n",
       "</style>\n",
       "<table border=\"1\" class=\"dataframe\">\n",
       "  <thead>\n",
       "    <tr style=\"text-align: right;\">\n",
       "      <th></th>\n",
       "      <th>acousticness</th>\n",
       "      <th>analysis_url</th>\n",
       "      <th>danceability</th>\n",
       "      <th>duration_ms</th>\n",
       "      <th>energy</th>\n",
       "      <th>id</th>\n",
       "      <th>instrumentalness</th>\n",
       "      <th>key</th>\n",
       "      <th>liveness</th>\n",
       "      <th>loudness</th>\n",
       "      <th>mode</th>\n",
       "      <th>speechiness</th>\n",
       "      <th>tempo</th>\n",
       "      <th>time_signature</th>\n",
       "      <th>track_href</th>\n",
       "      <th>type</th>\n",
       "      <th>uri</th>\n",
       "      <th>valence</th>\n",
       "      <th>cluster</th>\n",
       "    </tr>\n",
       "  </thead>\n",
       "  <tbody>\n",
       "    <tr>\n",
       "      <th>0</th>\n",
       "      <td>0.394</td>\n",
       "      <td>https://api.spotify.com/v1/audio-analysis/7odH...</td>\n",
       "      <td>0.401</td>\n",
       "      <td>149160</td>\n",
       "      <td>0.498</td>\n",
       "      <td>7odHgoLFi3GQ90E9PeraI3</td>\n",
       "      <td>0.0</td>\n",
       "      <td>4</td>\n",
       "      <td>0.1300</td>\n",
       "      <td>-10.682</td>\n",
       "      <td>1</td>\n",
       "      <td>0.0757</td>\n",
       "      <td>181.701</td>\n",
       "      <td>4</td>\n",
       "      <td>https://api.spotify.com/v1/tracks/7odHgoLFi3GQ...</td>\n",
       "      <td>audio_features</td>\n",
       "      <td>spotify:track:7odHgoLFi3GQ90E9PeraI3</td>\n",
       "      <td>0.816</td>\n",
       "      <td>0</td>\n",
       "    </tr>\n",
       "    <tr>\n",
       "      <th>1</th>\n",
       "      <td>0.822</td>\n",
       "      <td>https://api.spotify.com/v1/audio-analysis/6EuE...</td>\n",
       "      <td>0.742</td>\n",
       "      <td>274187</td>\n",
       "      <td>0.407</td>\n",
       "      <td>6EuE9M1viu9gkdFSafia9o</td>\n",
       "      <td>0.0</td>\n",
       "      <td>2</td>\n",
       "      <td>0.0541</td>\n",
       "      <td>-6.938</td>\n",
       "      <td>1</td>\n",
       "      <td>0.4260</td>\n",
       "      <td>116.064</td>\n",
       "      <td>4</td>\n",
       "      <td>https://api.spotify.com/v1/tracks/6EuE9M1viu9g...</td>\n",
       "      <td>audio_features</td>\n",
       "      <td>spotify:track:6EuE9M1viu9gkdFSafia9o</td>\n",
       "      <td>0.390</td>\n",
       "      <td>5</td>\n",
       "    </tr>\n",
       "    <tr>\n",
       "      <th>2</th>\n",
       "      <td>0.145</td>\n",
       "      <td>https://api.spotify.com/v1/audio-analysis/2r4J...</td>\n",
       "      <td>0.676</td>\n",
       "      <td>188773</td>\n",
       "      <td>0.777</td>\n",
       "      <td>2r4JRwcbIeuAzWjH4YXlLs</td>\n",
       "      <td>0.0</td>\n",
       "      <td>1</td>\n",
       "      <td>0.2280</td>\n",
       "      <td>-3.241</td>\n",
       "      <td>0</td>\n",
       "      <td>0.3570</td>\n",
       "      <td>173.931</td>\n",
       "      <td>4</td>\n",
       "      <td>https://api.spotify.com/v1/tracks/2r4JRwcbIeuA...</td>\n",
       "      <td>audio_features</td>\n",
       "      <td>spotify:track:2r4JRwcbIeuAzWjH4YXlLs</td>\n",
       "      <td>0.226</td>\n",
       "      <td>9</td>\n",
       "    </tr>\n",
       "    <tr>\n",
       "      <th>3</th>\n",
       "      <td>0.125</td>\n",
       "      <td>https://api.spotify.com/v1/audio-analysis/3qno...</td>\n",
       "      <td>0.925</td>\n",
       "      <td>145507</td>\n",
       "      <td>0.308</td>\n",
       "      <td>3qnoOm4fwZPBS116f5hpgF</td>\n",
       "      <td>0.0</td>\n",
       "      <td>11</td>\n",
       "      <td>0.0933</td>\n",
       "      <td>-6.562</td>\n",
       "      <td>0</td>\n",
       "      <td>0.3380</td>\n",
       "      <td>122.099</td>\n",
       "      <td>4</td>\n",
       "      <td>https://api.spotify.com/v1/tracks/3qnoOm4fwZPB...</td>\n",
       "      <td>audio_features</td>\n",
       "      <td>spotify:track:3qnoOm4fwZPBS116f5hpgF</td>\n",
       "      <td>0.265</td>\n",
       "      <td>2</td>\n",
       "    </tr>\n",
       "    <tr>\n",
       "      <th>4</th>\n",
       "      <td>0.494</td>\n",
       "      <td>https://api.spotify.com/v1/audio-analysis/3dG6...</td>\n",
       "      <td>0.555</td>\n",
       "      <td>205547</td>\n",
       "      <td>0.433</td>\n",
       "      <td>3dG6tjetoR4GMmUGZUprLt</td>\n",
       "      <td>0.0</td>\n",
       "      <td>3</td>\n",
       "      <td>0.3130</td>\n",
       "      <td>-8.559</td>\n",
       "      <td>1</td>\n",
       "      <td>0.5460</td>\n",
       "      <td>164.236</td>\n",
       "      <td>4</td>\n",
       "      <td>https://api.spotify.com/v1/tracks/3dG6tjetoR4G...</td>\n",
       "      <td>audio_features</td>\n",
       "      <td>spotify:track:3dG6tjetoR4GMmUGZUprLt</td>\n",
       "      <td>0.352</td>\n",
       "      <td>8</td>\n",
       "    </tr>\n",
       "  </tbody>\n",
       "</table>\n",
       "</div>"
      ],
      "text/plain": [
       "   acousticness                                       analysis_url  \\\n",
       "0         0.394  https://api.spotify.com/v1/audio-analysis/7odH...   \n",
       "1         0.822  https://api.spotify.com/v1/audio-analysis/6EuE...   \n",
       "2         0.145  https://api.spotify.com/v1/audio-analysis/2r4J...   \n",
       "3         0.125  https://api.spotify.com/v1/audio-analysis/3qno...   \n",
       "4         0.494  https://api.spotify.com/v1/audio-analysis/3dG6...   \n",
       "\n",
       "   danceability  duration_ms  energy                      id  \\\n",
       "0         0.401       149160   0.498  7odHgoLFi3GQ90E9PeraI3   \n",
       "1         0.742       274187   0.407  6EuE9M1viu9gkdFSafia9o   \n",
       "2         0.676       188773   0.777  2r4JRwcbIeuAzWjH4YXlLs   \n",
       "3         0.925       145507   0.308  3qnoOm4fwZPBS116f5hpgF   \n",
       "4         0.555       205547   0.433  3dG6tjetoR4GMmUGZUprLt   \n",
       "\n",
       "   instrumentalness  key  liveness  loudness  mode  speechiness    tempo  \\\n",
       "0               0.0    4    0.1300   -10.682     1       0.0757  181.701   \n",
       "1               0.0    2    0.0541    -6.938     1       0.4260  116.064   \n",
       "2               0.0    1    0.2280    -3.241     0       0.3570  173.931   \n",
       "3               0.0   11    0.0933    -6.562     0       0.3380  122.099   \n",
       "4               0.0    3    0.3130    -8.559     1       0.5460  164.236   \n",
       "\n",
       "   time_signature                                         track_href  \\\n",
       "0               4  https://api.spotify.com/v1/tracks/7odHgoLFi3GQ...   \n",
       "1               4  https://api.spotify.com/v1/tracks/6EuE9M1viu9g...   \n",
       "2               4  https://api.spotify.com/v1/tracks/2r4JRwcbIeuA...   \n",
       "3               4  https://api.spotify.com/v1/tracks/3qnoOm4fwZPB...   \n",
       "4               4  https://api.spotify.com/v1/tracks/3dG6tjetoR4G...   \n",
       "\n",
       "             type                                   uri  valence  cluster  \n",
       "0  audio_features  spotify:track:7odHgoLFi3GQ90E9PeraI3    0.816        0  \n",
       "1  audio_features  spotify:track:6EuE9M1viu9gkdFSafia9o    0.390        5  \n",
       "2  audio_features  spotify:track:2r4JRwcbIeuAzWjH4YXlLs    0.226        9  \n",
       "3  audio_features  spotify:track:3qnoOm4fwZPBS116f5hpgF    0.265        2  \n",
       "4  audio_features  spotify:track:3dG6tjetoR4GMmUGZUprLt    0.352        8  "
      ]
     },
     "execution_count": 55,
     "metadata": {},
     "output_type": "execute_result"
    }
   ],
   "source": [
    "df.head()"
   ]
  },
  {
   "cell_type": "code",
   "execution_count": 62,
   "metadata": {
    "scrolled": true
   },
   "outputs": [
    {
     "data": {
      "text/plain": [
       "pandas.core.series.Series"
      ]
     },
     "execution_count": 62,
     "metadata": {},
     "output_type": "execute_result"
    }
   ],
   "source": [
    "# Plot the radar of df cluster\n",
    "clusterZero = df[df.cluster == 0]\n",
    "zero_attrib = clusterZero.loc[:,labels]\n",
    "type(zero_attrib.mean(axis=0))"
   ]
  },
  {
   "cell_type": "code",
   "execution_count": 66,
   "metadata": {},
   "outputs": [
    {
     "data": {
      "text/plain": [
       "array([ 0.29984231,  0.72680769,  0.58103846,  0.0088917 ,  0.11195577,\n",
       "        0.09235192,  0.72628846])"
      ]
     },
     "execution_count": 66,
     "metadata": {},
     "output_type": "execute_result"
    }
   ],
   "source": [
    "attrib = zero_attrib.mean(axis=0).values\n",
    "attrib"
   ]
  },
  {
   "cell_type": "code",
   "execution_count": 67,
   "metadata": {
    "scrolled": true
   },
   "outputs": [
    {
     "data": {
      "text/plain": [
       "['acousticness',\n",
       " 'danceability',\n",
       " 'energy',\n",
       " 'instrumentalness',\n",
       " 'liveness',\n",
       " 'speechiness',\n",
       " 'valence']"
      ]
     },
     "execution_count": 67,
     "metadata": {},
     "output_type": "execute_result"
    }
   ],
   "source": [
    "labels"
   ]
  },
  {
   "cell_type": "code",
   "execution_count": 68,
   "metadata": {},
   "outputs": [
    {
     "data": {
      "text/plain": [
       "array([ 0.        ,  0.8975979 ,  1.7951958 ,  2.6927937 ,  3.5903916 ,\n",
       "        4.48798951,  5.38558741,  0.        ])"
      ]
     },
     "execution_count": 68,
     "metadata": {},
     "output_type": "execute_result"
    }
   ],
   "source": [
    "angles"
   ]
  },
  {
   "cell_type": "code",
   "execution_count": 70,
   "metadata": {},
   "outputs": [
    {
     "data": {
      "text/plain": [
       "array([ 0.        ,  0.8975979 ,  1.7951958 ,  2.6927937 ,  3.5903916 ,\n",
       "        4.48798951,  5.38558741])"
      ]
     },
     "execution_count": 70,
     "metadata": {},
     "output_type": "execute_result"
    }
   ],
   "source": [
    "angles[:-1]"
   ]
  },
  {
   "cell_type": "code",
   "execution_count": 77,
   "metadata": {},
   "outputs": [],
   "source": [
    "attrib=np.concatenate((attrib,[attrib[0]]))"
   ]
  },
  {
   "cell_type": "code",
   "execution_count": 78,
   "metadata": {},
   "outputs": [
    {
     "data": {
      "image/png": "[encoded data removed]",
      "text/plain": [
       "<Figure size 432x288 with 1 Axes>"
      ]
     },
     "metadata": {},
     "output_type": "display_data"
    }
   ],
   "source": [
    "fig=sns.plt.figure()\n",
    "ax = fig.add_subplot(111, polar=True)\n",
    "ax.plot(angles, attrib, 'o-', linewidth=2)\n",
    "ax.fill(angles, attrib, alpha=0.25)\n",
    "ax.set_thetagrids(angles * 180/np.pi, labels)\n",
    "ax.grid(True)"
   ]
  },
  {
   "cell_type": "code",
   "execution_count": null,
   "metadata": {},
   "outputs": [],
   "source": []
  },
  {
   "cell_type": "code",
   "execution_count": null,
   "metadata": {},
   "outputs": [],
   "source": []
  }
 ],
 "metadata": {
  "kernelspec": {
   "display_name": "Python 3",
   "language": "python",
   "name": "python3"
  },
  "language_info": {
   "codemirror_mode": {
    "name": "ipython",
    "version": 3
   },
   "file_extension": ".py",
   "mimetype": "text/x-python",
   "name": "python",
   "nbconvert_exporter": "python",
   "pygments_lexer": "ipython3",
   "version": "3.6.6"
  }
 },
 "nbformat": 4,
 "nbformat_minor": 2
}
